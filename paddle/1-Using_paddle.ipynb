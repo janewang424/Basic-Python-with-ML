{
 "cells": [
  {
   "cell_type": "code",
   "execution_count": 1,
   "metadata": {},
   "outputs": [],
   "source": [
    "import paddle\n",
    "import numpy as np"
   ]
  },
  {
   "cell_type": "code",
   "execution_count": 2,
   "metadata": {},
   "outputs": [],
   "source": [
    "import paddle.fluid as fluid"
   ]
  },
  {
   "cell_type": "markdown",
   "metadata": {},
   "source": [
    "### Method 1"
   ]
  },
  {
   "cell_type": "code",
   "execution_count": 4,
   "metadata": {},
   "outputs": [
    {
     "data": {
      "text/plain": [
       "name: \"w1\"\n",
       "type {\n",
       "  type: LOD_TENSOR\n",
       "  lod_tensor {\n",
       "    tensor {\n",
       "      data_type: FP32\n",
       "      dims: 3\n",
       "      dims: 4\n",
       "    }\n",
       "  }\n",
       "}\n",
       "persistable: true"
      ]
     },
     "execution_count": 4,
     "metadata": {},
     "output_type": "execute_result"
    }
   ],
   "source": [
    "w = paddle.fluid.layers.create_parameter(shape = [3,4], dtype = 'float32',name = 'w1')\n",
    "w"
   ]
  },
  {
   "cell_type": "markdown",
   "metadata": {},
   "source": [
    "### Method 2"
   ]
  },
  {
   "cell_type": "code",
   "execution_count": 5,
   "metadata": {},
   "outputs": [
    {
     "data": {
      "text/plain": [
       "name: \"x\"\n",
       "type {\n",
       "  type: LOD_TENSOR\n",
       "  lod_tensor {\n",
       "    tensor {\n",
       "      data_type: INT64\n",
       "      dims: -1\n",
       "      dims: 3\n",
       "    }\n",
       "    lod_level: 0\n",
       "  }\n",
       "}\n",
       "persistable: false"
      ]
     },
     "execution_count": 5,
     "metadata": {},
     "output_type": "execute_result"
    }
   ],
   "source": [
    "x = paddle.fluid.layers.data(name = 'x', shape = [None,3], dtype = 'int64')\n",
    "x"
   ]
  },
  {
   "cell_type": "markdown",
   "metadata": {},
   "source": [
    "### Method 3"
   ]
  },
  {
   "cell_type": "code",
   "execution_count": 6,
   "metadata": {},
   "outputs": [
    {
     "name": "stderr",
     "output_type": "stream",
     "text": [
      "C:\\Users\\janew\\Anaconda\\lib\\site-packages\\paddle\\fluid\\data_feeder.py:111: UserWarning: The data type of 'dtype' in fill_constant only support float16 in GPU now. \n",
      "  (input_name, op_name, extra_message))\n"
     ]
    },
    {
     "data": {
      "text/plain": [
       "name: \"fill_constant_0.tmp_0\"\n",
       "type {\n",
       "  type: LOD_TENSOR\n",
       "  lod_tensor {\n",
       "    tensor {\n",
       "      data_type: FP16\n",
       "      dims: 3\n",
       "      dims: 4\n",
       "    }\n",
       "  }\n",
       "}\n",
       "persistable: false"
      ]
     },
     "execution_count": 6,
     "metadata": {},
     "output_type": "execute_result"
    }
   ],
   "source": [
    "c = paddle.fluid.layers.fill_constant(shape = [3,4], dtype = 'float16', value = 3.14)\n",
    "c"
   ]
  },
  {
   "cell_type": "code",
   "execution_count": null,
   "metadata": {},
   "outputs": [],
   "source": []
  }
 ],
 "metadata": {
  "kernelspec": {
   "display_name": "Python 3",
   "language": "python",
   "name": "python3"
  },
  "language_info": {
   "codemirror_mode": {
    "name": "ipython",
    "version": 3
   },
   "file_extension": ".py",
   "mimetype": "text/x-python",
   "name": "python",
   "nbconvert_exporter": "python",
   "pygments_lexer": "ipython3",
   "version": "3.7.6"
  }
 },
 "nbformat": 4,
 "nbformat_minor": 4
}
