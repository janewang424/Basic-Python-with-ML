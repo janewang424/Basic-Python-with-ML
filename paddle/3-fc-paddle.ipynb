{
 "cells": [
  {
   "cell_type": "code",
   "execution_count": 1,
   "metadata": {},
   "outputs": [],
   "source": [
    "# Classification\n",
    "import numpy as np\n",
    "from paddle import fluid \n",
    "import matplotlib.pyplot as plt # pip install matplotlib -i https://pypi.tuna.tsinghua.edu.cn/simple"
   ]
  },
  {
   "cell_type": "markdown",
   "metadata": {},
   "source": [
    "### Input data"
   ]
  },
  {
   "cell_type": "code",
   "execution_count": 2,
   "metadata": {},
   "outputs": [],
   "source": [
    "x = np.arange(1,15).reshape(-1,1) # Random data\n",
    "#reshape(-1,..) automatically reshape\n",
    "#y = x*3 + 5 # linear\n",
    "y = np.array([[8],[11],[14],[17],[20],[23],[26],[29],[32],[35],[38],[41],[44],[47]])"
   ]
  },
  {
   "cell_type": "code",
   "execution_count": 3,
   "metadata": {},
   "outputs": [
    {
     "data": {
      "text/plain": [
       "array([[ 1],\n",
       "       [ 2],\n",
       "       [ 3],\n",
       "       [ 4],\n",
       "       [ 5],\n",
       "       [ 6],\n",
       "       [ 7],\n",
       "       [ 8],\n",
       "       [ 9],\n",
       "       [10],\n",
       "       [11],\n",
       "       [12],\n",
       "       [13],\n",
       "       [14]])"
      ]
     },
     "metadata": {},
     "output_type": "display_data"
    },
    {
     "data": {
      "text/plain": [
       "array([[ 8],\n",
       "       [11],\n",
       "       [14],\n",
       "       [17],\n",
       "       [20],\n",
       "       [23],\n",
       "       [26],\n",
       "       [29],\n",
       "       [32],\n",
       "       [35],\n",
       "       [38],\n",
       "       [41],\n",
       "       [44],\n",
       "       [47]])"
      ]
     },
     "metadata": {},
     "output_type": "display_data"
    }
   ],
   "source": [
    "# find the linear regression\n",
    "display(x,y)"
   ]
  },
  {
   "cell_type": "code",
   "execution_count": 4,
   "metadata": {},
   "outputs": [
    {
     "data": {
      "image/png": "[encoded data removed]",
      "text/plain": [
       "<Figure size 432x288 with 1 Axes>"
      ]
     },
     "metadata": {
      "needs_background": "light"
     },
     "output_type": "display_data"
    }
   ],
   "source": [
    "# plot the scatter\n",
    "plt.scatter(x,y,color = 'red')\n",
    "plt.show()"
   ]
  },
  {
   "cell_type": "markdown",
   "metadata": {},
   "source": [
    "### Variable, parameters, function, loss, optimization"
   ]
  },
  {
   "cell_type": "code",
   "execution_count": 5,
   "metadata": {},
   "outputs": [
    {
     "name": "stdout",
     "output_type": "stream",
     "text": [
      "---------- (1,)\n"
     ]
    },
    {
     "data": {
      "text/plain": [
       "(1,)"
      ]
     },
     "execution_count": 5,
     "metadata": {},
     "output_type": "execute_result"
    }
   ],
   "source": [
    "data_x = fluid.data(name = 'x',shape = [1,1],dtype ='float32')\n",
    "data_y = fluid.data(name = 'y',shape = [1,1],dtype ='float32')\n",
    "\n",
    "# fc layer\n",
    "w = fluid.layers.create_parameter(shape = [1],dtype = 'float32', name = 'w')\n",
    "b = fluid.layers.create_parameter(shape = [1],dtype = 'float32', name = 'b')\n",
    "# fcn: y = x*w + b\n",
    "y_pred = fluid.layers.elementwise_add(fluid.layers.matmul(data_x, w), b)\n",
    "# want y_pred close to data_y\n",
    "\n",
    "\n",
    "# return the predicted value\n",
    "#y_pred = fluid.layers.fc(input=data_x,size = 1) # fc layer, automatically set w and b\n",
    "\n",
    "\n",
    "# least square，Gauss\n",
    "cost = fluid.layers.mean(fluid.layers.square_error_cost(input = y_pred,label = data_y))\n",
    "print('----------',cost.shape)\n",
    "sgd = fluid.optimizer.SGD(learning_rate=0.01) # Stochastic gradient descent\n",
    "_ = sgd.minimize(cost) # least square\n",
    "cost.shape "
   ]
  },
  {
   "cell_type": "markdown",
   "metadata": {},
   "source": [
    "### Execute"
   ]
  },
  {
   "cell_type": "code",
   "execution_count": 6,
   "metadata": {},
   "outputs": [],
   "source": [
    "cpu  = fluid.CPUPlace()\n",
    "exe = fluid.Executor(cpu)\n",
    "exe.run(fluid.default_startup_program()) # Initialize variables\n",
    "mp = fluid.default_main_program()"
   ]
  },
  {
   "cell_type": "code",
   "execution_count": 7,
   "metadata": {},
   "outputs": [],
   "source": [
    "test_p = mp.clone(for_test=True) # For validation"
   ]
  },
  {
   "cell_type": "markdown",
   "metadata": {},
   "source": [
    "### Feed data"
   ]
  },
  {
   "cell_type": "code",
   "execution_count": 8,
   "metadata": {},
   "outputs": [
    {
     "name": "stdout",
     "output_type": "stream",
     "text": [
      "--------Execution times：0----------Loss：32.0506\n",
      "--------Execution times：1----------Loss：0.9413\n",
      "--------Execution times：2----------Loss：0.8669\n",
      "--------Execution times：3----------Loss：0.7983\n",
      "--------Execution times：4----------Loss：0.7352\n",
      "--------Execution times：5----------Loss：0.6771\n",
      "--------Execution times：6----------Loss：0.6236\n",
      "--------Execution times：7----------Loss：0.5743\n",
      "--------Execution times：8----------Loss：0.5289\n",
      "--------Execution times：9----------Loss：0.4871\n",
      "--------Execution times：10----------Loss：0.4486\n",
      "--------Execution times：11----------Loss：0.4131\n",
      "--------Execution times：12----------Loss：0.3804\n",
      "--------Execution times：13----------Loss：0.3504\n",
      "--------Execution times：14----------Loss：0.3227\n",
      "--------Execution times：15----------Loss：0.2972\n",
      "--------Execution times：16----------Loss：0.2737\n",
      "--------Execution times：17----------Loss：0.2520\n",
      "--------Execution times：18----------Loss：0.2321\n",
      "--------Execution times：19----------Loss：0.2137\n",
      "--------Execution times：20----------Loss：0.1969\n",
      "--------Execution times：21----------Loss：0.1813\n",
      "--------Execution times：22----------Loss：0.1669\n",
      "--------Execution times：23----------Loss：0.1538\n",
      "--------Execution times：24----------Loss：0.1416\n",
      "--------Execution times：25----------Loss：0.1304\n",
      "--------Execution times：26----------Loss：0.1201\n",
      "--------Execution times：27----------Loss：0.1106\n",
      "--------Execution times：28----------Loss：0.1019\n",
      "--------Execution times：29----------Loss：0.0938\n",
      "--------Execution times：30----------Loss：0.0864\n",
      "--------Execution times：31----------Loss：0.0796\n",
      "--------Execution times：32----------Loss：0.0733\n",
      "--------Execution times：33----------Loss：0.0675\n",
      "--------Execution times：34----------Loss：0.0622\n",
      "--------Execution times：35----------Loss：0.0572\n",
      "--------Execution times：36----------Loss：0.0527\n",
      "--------Execution times：37----------Loss：0.0485\n",
      "--------Execution times：38----------Loss：0.0447\n",
      "--------Execution times：39----------Loss：0.0412\n",
      "--------Execution times：40----------Loss：0.0379\n",
      "--------Execution times：41----------Loss：0.0349\n",
      "--------Execution times：42----------Loss：0.0322\n",
      "--------Execution times：43----------Loss：0.0296\n",
      "--------Execution times：44----------Loss：0.0273\n",
      "--------Execution times：45----------Loss：0.0251\n",
      "--------Execution times：46----------Loss：0.0231\n",
      "--------Execution times：47----------Loss：0.0213\n",
      "--------Execution times：48----------Loss：0.0196\n",
      "--------Execution times：49----------Loss：0.0181\n",
      "--------Execution times：50----------Loss：0.0166\n",
      "--------Execution times：51----------Loss：0.0153\n",
      "--------Execution times：52----------Loss：0.0141\n",
      "--------Execution times：53----------Loss：0.0130\n",
      "--------Execution times：54----------Loss：0.0120\n",
      "--------Execution times：55----------Loss：0.0110\n",
      "--------Execution times：56----------Loss：0.0102\n",
      "--------Execution times：57----------Loss：0.0094\n",
      "--------Execution times：58----------Loss：0.0086\n",
      "--------Execution times：59----------Loss：0.0079\n",
      "--------Execution times：60----------Loss：0.0073\n",
      "--------Execution times：61----------Loss：0.0067\n",
      "--------Execution times：62----------Loss：0.0062\n",
      "--------Execution times：63----------Loss：0.0057\n",
      "--------Execution times：64----------Loss：0.0053\n",
      "--------Execution times：65----------Loss：0.0048\n",
      "--------Execution times：66----------Loss：0.0045\n",
      "--------Execution times：67----------Loss：0.0041\n",
      "--------Execution times：68----------Loss：0.0038\n",
      "--------Execution times：69----------Loss：0.0035\n",
      "--------Execution times：70----------Loss：0.0032\n",
      "--------Execution times：71----------Loss：0.0030\n",
      "--------Execution times：72----------Loss：0.0027\n",
      "--------Execution times：73----------Loss：0.0025\n",
      "--------Execution times：74----------Loss：0.0023\n",
      "--------Execution times：75----------Loss：0.0021\n",
      "--------Execution times：76----------Loss：0.0020\n",
      "--------Execution times：77----------Loss：0.0018\n",
      "--------Execution times：78----------Loss：0.0017\n",
      "--------Execution times：79----------Loss：0.0015\n",
      "--------Execution times：80----------Loss：0.0014\n",
      "--------Execution times：81----------Loss：0.0013\n",
      "--------Execution times：82----------Loss：0.0012\n",
      "--------Execution times：83----------Loss：0.0011\n",
      "--------Execution times：84----------Loss：0.0010\n",
      "--------Execution times：85----------Loss：0.0009\n",
      "--------Execution times：86----------Loss：0.0009\n",
      "--------Execution times：87----------Loss：0.0008\n",
      "--------Execution times：88----------Loss：0.0007\n",
      "--------Execution times：89----------Loss：0.0007\n",
      "--------Execution times：90----------Loss：0.0006\n",
      "--------Execution times：91----------Loss：0.0006\n",
      "--------Execution times：92----------Loss：0.0005\n",
      "--------Execution times：93----------Loss：0.0005\n",
      "--------Execution times：94----------Loss：0.0004\n",
      "--------Execution times：95----------Loss：0.0004\n",
      "--------Execution times：96----------Loss：0.0004\n",
      "--------Execution times：97----------Loss：0.0003\n",
      "--------Execution times：98----------Loss：0.0003\n",
      "--------Execution times：99----------Loss：0.0003\n"
     ]
    }
   ],
   "source": [
    "for i in range(100):\n",
    "    cost_ = 0\n",
    "    for j in range(14):\n",
    "        feed_x = x[j].astype(np.float32).reshape(1,1)\n",
    "        feed_y = y[j].astype(np.float32).reshape(1,1)\n",
    "        outs = exe.run(program = mp,feed = {'x':feed_x,'y':feed_y},fetch_list = [cost])\n",
    "        cost_ += outs[0][0]/14\n",
    "    print('--------Execution times：%d----------Loss：%0.4f'%(i,cost_))"
   ]
  },
  {
   "cell_type": "markdown",
   "metadata": {},
   "source": [
    "### Validation"
   ]
  },
  {
   "cell_type": "code",
   "execution_count": 9,
   "metadata": {},
   "outputs": [
    {
     "data": {
      "text/plain": [
       "[array([65.011246], dtype=float32)]"
      ]
     },
     "execution_count": 9,
     "metadata": {},
     "output_type": "execute_result"
    }
   ],
   "source": [
    "# Input:20，output:?\n",
    "exe.run(program=test_p,feed = {'x':np.array([[20]]).astype(np.float32),\n",
    "                               'y':y[0].astype(np.float32).reshape(1,1)},fetch_list=[y_pred])"
   ]
  },
  {
   "cell_type": "markdown",
   "metadata": {},
   "source": [
    "$$f(x) = wx + b$$\n",
    "\n",
    "w = 3 b + 5"
   ]
  },
  {
   "cell_type": "code",
   "execution_count": 10,
   "metadata": {},
   "outputs": [
    {
     "name": "stdout",
     "output_type": "stream",
     "text": [
      "[3.0034485] [4.9587955]\n"
     ]
    }
   ],
   "source": [
    "w_,b_ = exe.run(feed = {'x':x[0].astype(np.float32),'y':y[0].astype(np.float32)},fetch_list=[w,b])\n",
    "print(w_,b_)"
   ]
  }
 ],
 "metadata": {
  "kernelspec": {
   "display_name": "Python 3",
   "language": "python",
   "name": "python3"
  },
  "language_info": {
   "codemirror_mode": {
    "name": "ipython",
    "version": 3
   },
   "file_extension": ".py",
   "mimetype": "text/x-python",
   "name": "python",
   "nbconvert_exporter": "python",
   "pygments_lexer": "ipython3",
   "version": "3.7.4"
  },
  "toc": {
   "base_numbering": 1,
   "nav_menu": {},
   "number_sections": true,
   "sideBar": true,
   "skip_h1_title": false,
   "title_cell": "Table of Contents",
   "title_sidebar": "Contents",
   "toc_cell": false,
   "toc_position": {},
   "toc_section_display": true,
   "toc_window_display": false
  }
 },
 "nbformat": 4,
 "nbformat_minor": 4
}
