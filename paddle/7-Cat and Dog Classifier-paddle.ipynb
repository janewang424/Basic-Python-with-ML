{
 "cells": [
  {
   "cell_type": "code",
   "execution_count": 1,
   "metadata": {},
   "outputs": [],
   "source": [
    "import paddle\n",
    "import paddle.fluid as fluid\n",
    "import numpy\n",
    "import sys\n",
    "#paddle.__version__\n",
    "# pip install --upgrade paddlepaddle"
   ]
  },
  {
   "cell_type": "code",
   "execution_count": 2,
   "metadata": {},
   "outputs": [],
   "source": [
    "# pip install --upgrade paddlepaddle"
   ]
  },
  {
   "cell_type": "code",
   "execution_count": 3,
   "metadata": {},
   "outputs": [],
   "source": [
    "def vgg_bn_drop(input): # Define conv and pooling method\n",
    "    def conv_block(ipt, num_filter, groups, dropouts):\n",
    "        return fluid.nets.img_conv_group(\n",
    "            input=ipt,\n",
    "            pool_size=2, # pool size 2\n",
    "            pool_stride=2, # pool stride 2\n",
    "            conv_num_filter=[num_filter] * groups, # filter number\n",
    "            conv_filter_size=3, # kernel size 3\n",
    "            conv_act='relu', # relu\n",
    "            conv_with_batchnorm=True, # normalization\n",
    "            conv_batchnorm_drop_rate=dropouts, # dropouts overfitting, hide part of the neurons, better results\n",
    "            pool_type='max') # max pooling\n",
    "\n",
    "    conv1 = conv_block(input, 64, 2, [0.3, 0]) # first layer\n",
    "    conv2 = conv_block(conv1, 128, 2, [0.4, 0]) # second layer\n",
    "    conv3 = conv_block(conv2, 256, 3, [0.4, 0.4, 0])\n",
    "    conv4 = conv_block(conv3, 512, 3, [0.4, 0.4, 0])\n",
    "    conv5 = conv_block(conv4, 512, 3, [0.4, 0.4, 0])\n",
    "\n",
    "    drop = fluid.layers.dropout(x=conv5, dropout_prob=0.5)\n",
    "    fc1 = fluid.layers.fc(input=drop, size=512, act=None)\n",
    "    bn = fluid.layers.batch_norm(input=fc1, act='relu')\n",
    "    drop2 = fluid.layers.dropout(x=bn, dropout_prob=0.5)\n",
    "    fc2 = fluid.layers.fc(input=drop2, size=512, act=None)\n",
    "    predict = fluid.layers.fc(input=fc2, size=10, act='softmax')\n",
    "    return predict\n",
    "# VGG 16"
   ]
  },
  {
   "cell_type": "markdown",
   "metadata": {},
   "source": [
    "### Train program"
   ]
  },
  {
   "cell_type": "code",
   "execution_count": 4,
   "metadata": {},
   "outputs": [],
   "source": [
    "def inference_program():\n",
    "    # The image is 32 * 32 with RGB representation.\n",
    "    data_shape = [None, 3, 32, 32] # 3dimension, RGB\n",
    "    images = fluid.layers.data(name='pixel', shape=data_shape, dtype='float32') # variable\n",
    "\n",
    "#     predict = resnet_cifar10(images, 32)\n",
    "    predict = vgg_bn_drop(images) # VGG 16\n",
    "    return predict"
   ]
  },
  {
   "cell_type": "code",
   "execution_count": 5,
   "metadata": {},
   "outputs": [],
   "source": [
    "def train_program():\n",
    "    predict = inference_program()\n",
    "\n",
    "    label = fluid.layers.data(name='label', shape=[None,1], dtype='int64')\n",
    "    cost = fluid.layers.cross_entropy(input=predict, label=label) # cross entropy\n",
    "    avg_cost = fluid.layers.mean(cost) # average cross entropy\n",
    "    accuracy = fluid.layers.accuracy(input=predict, label=label) # accuracy\n",
    "    return [avg_cost, accuracy, predict]"
   ]
  },
  {
   "cell_type": "code",
   "execution_count": 6,
   "metadata": {},
   "outputs": [],
   "source": [
    "# adam optimizer\n",
    "def optimizer_program():\n",
    "    return fluid.optimizer.Adam(learning_rate=0.001)"
   ]
  },
  {
   "cell_type": "markdown",
   "metadata": {},
   "source": [
    "!mkdir /home/jovyan/.cache/paddle/dataset/cifar  \n",
    "!cp /home/jovyan/mnt/rd123/cifar-10-python.tar.gz /home/jovyan/.cache/paddle/dataset/cifar"
   ]
  },
  {
   "cell_type": "code",
   "execution_count": 7,
   "metadata": {},
   "outputs": [],
   "source": [
    "# Each batch will yield 128 images\n",
    "BATCH_SIZE = 128\n",
    "\n",
    "# Reader for training\n",
    "train_reader = paddle.batch(\n",
    "    paddle.reader.shuffle(paddle.dataset.cifar.train10(), buf_size=50000),\n",
    "    batch_size=BATCH_SIZE)\n",
    "\n",
    "# Reader for testing. A separated data set for testing.\n",
    "test_reader = paddle.batch(\n",
    "    paddle.dataset.cifar.test10(), batch_size=BATCH_SIZE)"
   ]
  },
  {
   "cell_type": "code",
   "execution_count": 8,
   "metadata": {},
   "outputs": [],
   "source": [
    "use_cuda = True\n",
    "place = fluid.CUDAPlace(0) if use_cuda else fluid.CPUPlace()\n",
    "\n",
    "feed_order = ['pixel', 'label']\n",
    "\n",
    "main_program = fluid.default_main_program()\n",
    "star_program = fluid.default_startup_program()\n",
    "\n",
    "avg_cost, acc, predict = train_program()\n",
    "\n",
    "# Test program\n",
    "test_program = main_program.clone(for_test=True)\n",
    "\n",
    "optimizer = optimizer_program()\n",
    "optimizer.minimize(avg_cost)\n",
    "\n",
    "exe = fluid.Executor(place)\n",
    "\n",
    "EPOCH_NUM = 2\n",
    "\n",
    "# For test data loss and accuracy:\n",
    "def train_test(program, reader):\n",
    "    count = 0\n",
    "    feed_var_list = [\n",
    "        program.global_block().var(var_name) for var_name in feed_order\n",
    "    ]\n",
    "    feeder_test = fluid.DataFeeder(\n",
    "        feed_list=feed_var_list, place=place)\n",
    "    test_exe = fluid.Executor(place)\n",
    "    accumulated = len([avg_cost, acc]) * [0]\n",
    "    for tid, test_data in enumerate(reader()):\n",
    "        avg_cost_np = test_exe.run(program=program,\n",
    "                                   feed=feeder_test.feed(test_data),\n",
    "                                   fetch_list=[avg_cost, acc])\n",
    "        accumulated = [x[0] + x[1][0] for x in zip(accumulated, avg_cost_np)]\n",
    "        count += 1\n",
    "    return [x / count for x in accumulated]"
   ]
  },
  {
   "cell_type": "code",
   "execution_count": 9,
   "metadata": {},
   "outputs": [],
   "source": [
    "params_dirname = \"image_classification_resnet.inference.model\"\n",
    "\n",
    "from paddle.utils.plot import Ploter\n",
    "\n",
    "train_prompt = \"Train cost\"\n",
    "test_prompt = \"Test cost\"\n",
    "plot_cost = Ploter(test_prompt,train_prompt)"
   ]
  },
  {
   "cell_type": "code",
   "execution_count": 10,
   "metadata": {},
   "outputs": [],
   "source": [
    "# main train loop.\n",
    "def train_loop():\n",
    "    feed_var_list_loop = [\n",
    "        main_program.global_block().var(var_name) for var_name in feed_order\n",
    "    ]\n",
    "    feeder = fluid.DataFeeder(\n",
    "        feed_list=feed_var_list_loop, place=place)\n",
    "    exe.run(star_program)\n",
    "\n",
    "    step = 0\n",
    "    for pass_id in range(EPOCH_NUM):\n",
    "        for step_id, data_train in enumerate(train_reader()):\n",
    "            avg_loss_value = exe.run(main_program,\n",
    "                                     feed=feeder.feed(data_train),\n",
    "                                     fetch_list=[avg_cost, acc])\n",
    "            if step % 1 == 0:\n",
    "                plot_cost.append(train_prompt, step, avg_loss_value[0])\n",
    "                plot_cost.plot()\n",
    "            step += 1\n",
    "\n",
    "# test dataset\n",
    "        avg_cost_test, accuracy_test = train_test(test_program,\n",
    "                                                  reader=test_reader)\n",
    "        plot_cost.append(test_prompt, step, avg_cost_test)\n",
    "\n",
    "        # save parameters\n",
    "        if params_dirname is not None:\n",
    "            fluid.io.save_inference_model(params_dirname, [\"pixel\"],\n",
    "                                          [predict], exe)"
   ]
  },
  {
   "cell_type": "code",
   "execution_count": 11,
   "metadata": {},
   "outputs": [
    {
     "data": {
      "image/png": "[encoded data removed]",
      "text/plain": [
       "<Figure size 432x288 with 1 Axes>"
      ]
     },
     "metadata": {},
     "output_type": "display_data"
    },
    {
     "data": {
      "text/plain": [
       "<Figure size 432x288 with 0 Axes>"
      ]
     },
     "metadata": {},
     "output_type": "display_data"
    }
   ],
   "source": [
    "train_loop()"
   ]
  },
  {
   "cell_type": "code",
   "execution_count": null,
   "metadata": {},
   "outputs": [],
   "source": []
  }
 ],
 "metadata": {
  "kernelspec": {
   "display_name": "Python 3",
   "language": "python",
   "name": "python3"
  },
  "language_info": {
   "codemirror_mode": {
    "name": "ipython",
    "version": 3
   },
   "file_extension": ".py",
   "mimetype": "text/x-python",
   "name": "python",
   "nbconvert_exporter": "python",
   "pygments_lexer": "ipython3",
   "version": "3.7.4"
  }
 },
 "nbformat": 4,
 "nbformat_minor": 2
}
