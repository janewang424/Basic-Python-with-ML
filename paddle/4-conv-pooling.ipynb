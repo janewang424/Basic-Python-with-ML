{
 "cells": [
  {
   "cell_type": "markdown",
   "metadata": {},
   "source": [
    "### Convolution"
   ]
  },
  {
   "cell_type": "code",
   "execution_count": 1,
   "metadata": {},
   "outputs": [
    {
     "data": {
      "text/plain": [
       "(-1, 1, 3, 3)"
      ]
     },
     "execution_count": 1,
     "metadata": {},
     "output_type": "execute_result"
    }
   ],
   "source": [
    "import paddle.fluid as fluid\n",
    "import numpy as np\n",
    "data = fluid.layers.data(name='data', shape=[1, 5, 5], dtype='float32') # 5*5*1\n",
    "\n",
    "# conv2d convolution \n",
    "# rgb 3 channels\n",
    "res = fluid.layers.conv2d(input=data, # data\n",
    "                          num_filters=1,#filter number\n",
    "                          filter_size=3,\n",
    "                          padding = 0) # padding\n",
    "res.shape"
   ]
  },
  {
   "cell_type": "markdown",
   "metadata": {},
   "source": [
    "![](https://timgsa.baidu.com/timg?image&quality=80&size=b9999_10000&sec=1597746873052&di=f56b4123ae5ee3e466a91cc7c3ae9483&imgtype=0&src=http%3A%2F%2F201905.oss-cn-hangzhou.aliyuncs.com%2Fcs%2F5606289-20b1a8f91855dc97a6e3b08dc87bb748.png)"
   ]
  },
  {
   "cell_type": "code",
   "execution_count": 2,
   "metadata": {
    "scrolled": false
   },
   "outputs": [
    {
     "name": "stdout",
     "output_type": "stream",
     "text": [
      "[array([[[[-5.,  0.,  1.],\n",
      "         [-1., -2., -5.],\n",
      "         [ 8., -1.,  3.]]]], dtype=float32)]\n"
     ]
    }
   ],
   "source": [
    "import paddle.fluid as fluid\n",
    "import numpy as np\n",
    "from paddle.fluid.initializer import NumpyArrayInitializer\n",
    "\n",
    "# 1、Define data and kernel/filter\n",
    "data = fluid.layers.data(name='data', shape=[1, 5, 5], dtype='float32')\n",
    "kernel = np.array([-1,0,1]*3).astype(\"float32\").reshape(1,1,3,3)\n",
    "\n",
    "# 2、Program\n",
    "param_attr = fluid.ParamAttr(initializer=NumpyArrayInitializer(value=kernel)) # initializer\n",
    "res = fluid.layers.conv2d(input=data,\n",
    "                          num_filters=1,\n",
    "                          filter_size=3, # 3*3\n",
    "                          param_attr=param_attr, # pass the filter\n",
    "                          padding = 0) # no padding\n",
    "\n",
    "# 3、Executor\n",
    "place = fluid.CPUPlace()\n",
    "exe = fluid.Executor(place)\n",
    "exe.run(fluid.default_startup_program())\n",
    "\n",
    "\n",
    "# 4、Pull data\n",
    "x = np.array([[2,1,0,2,3],[9,5,4,2,0],[2,3,4,5,6],[1,2,3,1,0],[0,4,4,2,8]]).astype(\"float32\").reshape(1,1,5,5)\n",
    "output = exe.run(feed={\"data\": x}, fetch_list=[res])\n",
    "\n",
    "print(output)"
   ]
  },
  {
   "cell_type": "markdown",
   "metadata": {},
   "source": [
    "![](https://timgsa.baidu.com/timg?image&quality=80&size=b9999_10000&sec=1597748019915&di=9c024403a5d91ad2f82b347ddc3c3a72&imgtype=0&src=http%3A%2F%2Fdtimage.oss-cn-shanghai.aliyuncs.com%2F2016%2F1125%2F250323575bo8.gif)"
   ]
  },
  {
   "cell_type": "markdown",
   "metadata": {},
   "source": [
    "###  Pooling\n",
    "Features"
   ]
  },
  {
   "cell_type": "markdown",
   "metadata": {},
   "source": [
    "![](https://timgsa.baidu.com/timg?image&quality=80&size=b9999_10000&sec=1597748141073&di=789efba04060210294e02ea8dd5d4c2d&imgtype=0&src=http%3A%2F%2F5b0988e595225.cdn.sohucs.com%2Fimages%2F20171023%2F050b316c3aea478e8d3c0fae2d5f4bb6.jpeg)"
   ]
  },
  {
   "cell_type": "code",
   "execution_count": 3,
   "metadata": {},
   "outputs": [
    {
     "data": {
      "text/plain": [
       "(-1, 1, 8, 16)"
      ]
     },
     "execution_count": 3,
     "metadata": {},
     "output_type": "execute_result"
    }
   ],
   "source": [
    "import paddle.fluid as fluid\n",
    "import numpy as np\n",
    "\n",
    "# 1、Claim data\n",
    "data = fluid.layers.data(name='pool_data', shape=[1, 31, 63], dtype='float32')\n",
    "\n",
    "# 2、进行池化操作\n",
    "pool_res = fluid.layers.pool2d(input = data,\n",
    "                               pool_size=4,# pool size\n",
    "                               pool_stride=4, #stride\n",
    "                               pool_padding=1) # padding\n",
    "\n",
    "\n",
    "pool_res.shape"
   ]
  },
  {
   "cell_type": "code",
   "execution_count": null,
   "metadata": {},
   "outputs": [],
   "source": []
  }
 ],
 "metadata": {
  "kernelspec": {
   "display_name": "Python 3",
   "language": "python",
   "name": "python3"
  },
  "language_info": {
   "codemirror_mode": {
    "name": "ipython",
    "version": 3
   },
   "file_extension": ".py",
   "mimetype": "text/x-python",
   "name": "python",
   "nbconvert_exporter": "python",
   "pygments_lexer": "ipython3",
   "version": "3.7.4"
  },
  "toc": {
   "base_numbering": 1,
   "nav_menu": {},
   "number_sections": true,
   "sideBar": true,
   "skip_h1_title": false,
   "title_cell": "Table of Contents",
   "title_sidebar": "Contents",
   "toc_cell": false,
   "toc_position": {},
   "toc_section_display": true,
   "toc_window_display": false
  }
 },
 "nbformat": 4,
 "nbformat_minor": 4
}
