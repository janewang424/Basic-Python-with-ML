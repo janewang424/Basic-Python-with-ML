{
 "cells": [
  {
   "cell_type": "markdown",
   "metadata": {},
   "source": [
    "### Define Constant"
   ]
  },
  {
   "cell_type": "code",
   "execution_count": 1,
   "metadata": {},
   "outputs": [
    {
     "name": "stdout",
     "output_type": "stream",
     "text": [
      "name: \"fill_constant_0.tmp_0\"\n",
      "type {\n",
      "  type: LOD_TENSOR\n",
      "  lod_tensor {\n",
      "    tensor {\n",
      "      data_type: FP32\n",
      "      dims: 3\n",
      "      dims: 4\n",
      "    }\n",
      "  }\n",
      "}\n",
      "persistable: false\n",
      "\n"
     ]
    },
    {
     "data": {
      "text/plain": [
       "[array([[3.14, 3.14, 3.14, 3.14],\n",
       "        [3.14, 3.14, 3.14, 3.14],\n",
       "        [3.14, 3.14, 3.14, 3.14]], dtype=float32)]"
      ]
     },
     "execution_count": 1,
     "metadata": {},
     "output_type": "execute_result"
    }
   ],
   "source": [
    "import numpy as np\n",
    "import paddle.fluid as fluid\n",
    "c = fluid.layers.fill_constant(shape = [3,4],dtype=np.float32,value=3.14) # Claim constant\n",
    "print(c)\n",
    "cpu = fluid.core.CPUPlace() # Load cpu\n",
    "exe = fluid.Executor(cpu) # Execute,source：either cpu or gpu（NVIDIA, 3G+）\n",
    "exe.run(fetch_list=[c]) # Fetch constant value，shift + tab: instructions"
   ]
  },
  {
   "cell_type": "markdown",
   "metadata": {},
   "source": [
    "### Define Variables"
   ]
  },
  {
   "cell_type": "markdown",
   "metadata": {},
   "source": [
    "#### Method 1"
   ]
  },
  {
   "cell_type": "code",
   "execution_count": 1,
   "metadata": {},
   "outputs": [
    {
     "name": "stdout",
     "output_type": "stream",
     "text": [
      "[array([12.], dtype=float32), array([35.], dtype=float32)]\n"
     ]
    }
   ],
   "source": [
    "import numpy as np\n",
    "import paddle.fluid as fluid\n",
    "\n",
    "# 1、Define Variable\n",
    "# Don't know the value\n",
    "v1 = fluid.data(name=\"v1\",shape=[1],dtype='float32') # variable\n",
    "v2 = fluid.data(name=\"v2\",shape=[1],dtype='float32') # variable\n",
    "\n",
    "# 2、Define Calculation\n",
    "add = fluid.layers.elementwise_add(v1,v2) # Addition\n",
    "mul = fluid.layers.elementwise_mul(v1,v2) # Multiplication\n",
    "\n",
    "\n",
    "# 3、Define Execution\n",
    "# Determine the execute in CPU\n",
    "cpu = fluid.core.CPUPlace()\n",
    "exe = fluid.Executor(cpu)\n",
    "\n",
    "# 4、Run\n",
    "x1 = np.array([5]).astype(\"float32\")\n",
    "y1 = np.array([7]).astype(\"float32\")\n",
    "outs = exe.run(\n",
    "        feed={'v1':x1,'v2':y1},\n",
    "        fetch_list=[add,mul])\n",
    "print(outs)"
   ]
  },
  {
   "cell_type": "markdown",
   "metadata": {},
   "source": [
    "#### Method 2"
   ]
  },
  {
   "cell_type": "code",
   "execution_count": 1,
   "metadata": {},
   "outputs": [
    {
     "name": "stdout",
     "output_type": "stream",
     "text": [
      "[array([8.], dtype=float32)]\n"
     ]
    }
   ],
   "source": [
    "import numpy as np\n",
    "import paddle.fluid as fluid\n",
    "# 1、Claim Variables\n",
    "p1 = fluid.layers.create_parameter(shape = [1],dtype='float32',name = 'p1')\n",
    "p2 = fluid.layers.create_parameter(shape = [1],dtype='float32',name = 'p2')\n",
    "\n",
    "# 2、Define Calculation\n",
    "sub = fluid.layers.elementwise_sub(p1,p2,name = 'sub') # Subtraction\n",
    "\n",
    "# 3、Define Execution\n",
    "# Determine the execute in CPU\n",
    "cpu = fluid.core.CPUPlace()\n",
    "exe = fluid.Executor(cpu)\n",
    "\n",
    "# 4、Assign value and run\n",
    "x2 = np.array([15]).astype(\"float32\")\n",
    "y2 = np.array([7]).astype(\"float32\")\n",
    "outs = exe.run(\n",
    "        feed={'p1':x2,'p2':y2}, # feed value\n",
    "        fetch_list=[sub])\n",
    "\n",
    "print(outs)"
   ]
  },
  {
   "cell_type": "markdown",
   "metadata": {},
   "source": [
    "### Addition, average calculation"
   ]
  },
  {
   "cell_type": "code",
   "execution_count": 1,
   "metadata": {},
   "outputs": [],
   "source": [
    "import numpy as np"
   ]
  },
  {
   "cell_type": "code",
   "execution_count": 2,
   "metadata": {},
   "outputs": [
    {
     "data": {
      "text/plain": [
       "array([  1,   2,   3,   4,   5,   6,   7,   8,   9,  10,  11,  12,  13,\n",
       "        14,  15,  16,  17,  18,  19,  20,  21,  22,  23,  24,  25,  26,\n",
       "        27,  28,  29,  30,  31,  32,  33,  34,  35,  36,  37,  38,  39,\n",
       "        40,  41,  42,  43,  44,  45,  46,  47,  48,  49,  50,  51,  52,\n",
       "        53,  54,  55,  56,  57,  58,  59,  60,  61,  62,  63,  64,  65,\n",
       "        66,  67,  68,  69,  70,  71,  72,  73,  74,  75,  76,  77,  78,\n",
       "        79,  80,  81,  82,  83,  84,  85,  86,  87,  88,  89,  90,  91,\n",
       "        92,  93,  94,  95,  96,  97,  98,  99, 100])"
      ]
     },
     "execution_count": 2,
     "metadata": {},
     "output_type": "execute_result"
    }
   ],
   "source": [
    "np.arange(1,101)"
   ]
  },
  {
   "cell_type": "code",
   "execution_count": 3,
   "metadata": {},
   "outputs": [
    {
     "data": {
      "text/plain": [
       "[array([258.], dtype=float32),\n",
       " array([  1.,   2.,   3.,   4.,   5.,   6.,   7.,   8.,   9.,  10.,  11.,\n",
       "         12.,  13.,  14.,  15.,  16.,  17.,  18.,  19.,  20.,  21.,  22.,\n",
       "         23.,  24.,  25.,  26.,  27.,  28.,  29.,  30.,  31.,  32.,  33.,\n",
       "         34.,  35.,  36.,  37.,  38.,  39.,  40.,  41.,  42.,  43.,  44.,\n",
       "         45.,  46.,  47.,  48.,  49.,  50.,  51.,  52.,  53.,  54.,  55.,\n",
       "         56.,  57.,  58.,  59.,  60.,  61.,  62.,  63.,  64.,  65.,  66.,\n",
       "         67.,  68.,  69.,  70.,  71.,  72.,  73.,  74.,  75.,  76.,  77.,\n",
       "         78.,  79.,  80.,  81.,  82.,  83.,  84.,  85.,  86.,  87.,  88.,\n",
       "         89.,  90.,  91.,  92.,  93.,  94.,  95.,  96.,  97.,  98.,  99.,\n",
       "        100.], dtype=float32),\n",
       " array([  1.,   2.,   3.,   4.,   5.,   6.,   7.,   8.,   9.,  10.,  11.,\n",
       "         12.,  13.,  14.,  15.,  16.,  17.,  18.,  19.,  20.,  21.,  22.,\n",
       "         23.,  24.,  25.,  26.,  27.,  28.,  29.,  30.,  31.,  32.,  33.,\n",
       "         34.,  35.,  36.,  37.,  38.,  39.,  40.,  41.,  42.,  43.,  44.,\n",
       "         45.,  46.,  47.,  48.,  49.,  50.,  51.,  52.,  53.,  54.,  55.,\n",
       "         56.,  57.,  58.,  59.,  60.,  61.,  62.,  63.,  64.,  65.,  66.,\n",
       "         67.,  68.,  69.,  70.,  71.,  72.,  73.,  74.,  75.,  76.,  77.,\n",
       "         78.,  79.,  80.,  81.,  82.,  83.,  84.,  85.,  86.,  87.,  88.,\n",
       "         89.,  90.,  91.,  92.,  93.,  94.,  95.,  96.,  97.,  98.,  99.,\n",
       "        100.]),\n",
       " array([50.5])]"
      ]
     },
     "execution_count": 3,
     "metadata": {},
     "output_type": "execute_result"
    }
   ],
   "source": [
    "from paddle import fluid\n",
    "\n",
    "# 1、Claim variables\n",
    "x = fluid.data(name=\"x\",shape=[1],dtype='float32')\n",
    "y = fluid.data(name=\"y\",shape=[1],dtype='float32')\n",
    "\n",
    "# 2、Define calculation\n",
    "result = fluid.layers.elementwise_add(x,y) # Addition\n",
    "\n",
    "a = fluid.layers.arange(1,101) # From 1 to 100, similar with numpy.arange\n",
    "b = fluid.layers.cast(a,dtype='float64') # Type conversion: cast\n",
    "m = fluid.layers.mean(b) # Mean\n",
    "\n",
    "# 3、Define calculation & CPU\n",
    "cpu = fluid.core.CPUPlace()\n",
    "exe = fluid.Executor(cpu)\n",
    "exe.run(feed = {'x':255,'y':3},fetch_list=[result,a,b,m])"
   ]
  },
  {
   "cell_type": "code",
   "execution_count": 4,
   "metadata": {},
   "outputs": [
    {
     "data": {
      "text/plain": [
       "name: \"range_0.tmp_0\"\n",
       "type {\n",
       "  type: LOD_TENSOR\n",
       "  lod_tensor {\n",
       "    tensor {\n",
       "      data_type: FP32\n",
       "      dims: -1\n",
       "    }\n",
       "  }\n",
       "}\n",
       "persistable: false"
      ]
     },
     "execution_count": 4,
     "metadata": {},
     "output_type": "execute_result"
    }
   ],
   "source": [
    "a"
   ]
  },
  {
   "cell_type": "code",
   "execution_count": 5,
   "metadata": {},
   "outputs": [
    {
     "data": {
      "text/plain": [
       "name: \"cast_0.tmp_0\"\n",
       "type {\n",
       "  type: LOD_TENSOR\n",
       "  lod_tensor {\n",
       "    tensor {\n",
       "      data_type: FP64\n",
       "      dims: -1\n",
       "    }\n",
       "    lod_level: 0\n",
       "  }\n",
       "}\n",
       "persistable: false"
      ]
     },
     "execution_count": 5,
     "metadata": {},
     "output_type": "execute_result"
    }
   ],
   "source": [
    "b"
   ]
  },
  {
   "cell_type": "markdown",
   "metadata": {},
   "source": [
    "### Matrix Operations"
   ]
  },
  {
   "cell_type": "code",
   "execution_count": 1,
   "metadata": {
    "scrolled": true
   },
   "outputs": [
    {
     "data": {
      "text/plain": [
       "[array([[ 14.,  46.],\n",
       "        [ 32., 118.]], dtype=float32)]"
      ]
     },
     "execution_count": 1,
     "metadata": {},
     "output_type": "execute_result"
    }
   ],
   "source": [
    "import paddle.fluid as fluid\n",
    "import numpy as np\n",
    "\n",
    "# 1、Claim variables. Define shape, easier for calulation. Claim operation.\n",
    "a = fluid.layers.data(name='xx', shape=[2, 3], dtype='float32')\n",
    "b = fluid.layers.data(name='yy', shape=[3, 2], dtype='float32')\n",
    "out = fluid.layers.matmul(a, b) # Matrix multiplication\n",
    "\n",
    "\n",
    "# 2、Claim value\n",
    "a=np.array([[1,2,3],[4,5,6]]).astype('float32')\n",
    "b=np.array([[1,9],[2,8],[3,7]]).astype('float32')\n",
    "\n",
    "# 3、Define Execution\n",
    "# Determine the execute in CPU\n",
    "place = fluid.CPUPlace()\n",
    "exe = fluid.executor.Executor(place)\n",
    "\n",
    "# 4、Initialize parameters\n",
    "#exe.run(fluid.default_startup_program())\n",
    "\n",
    "# 5、Run\n",
    "out_y= exe.run(program=fluid.default_main_program(),# Program running in main program\n",
    "               feed={'xx': a, 'yy': b},# feed value\n",
    "               fetch_list=[out])\n",
    "out_y"
   ]
  },
  {
   "cell_type": "code",
   "execution_count": 2,
   "metadata": {},
   "outputs": [
    {
     "data": {
      "text/plain": [
       "array([[1., 2., 3.],\n",
       "       [4., 5., 6.]], dtype=float32)"
      ]
     },
     "metadata": {},
     "output_type": "display_data"
    },
    {
     "data": {
      "text/plain": [
       "array([[1., 9.],\n",
       "       [2., 8.],\n",
       "       [3., 7.]], dtype=float32)"
      ]
     },
     "metadata": {},
     "output_type": "display_data"
    }
   ],
   "source": [
    "display(a,b)"
   ]
  },
  {
   "cell_type": "markdown",
   "metadata": {},
   "source": [
    "### Another Matrix Operation: dot"
   ]
  },
  {
   "cell_type": "code",
   "execution_count": 1,
   "metadata": {},
   "outputs": [
    {
     "data": {
      "text/plain": [
       "[array([25.], dtype=float32)]"
      ]
     },
     "execution_count": 1,
     "metadata": {},
     "output_type": "execute_result"
    }
   ],
   "source": [
    "import paddle.fluid as fluid\n",
    "import numpy as np\n",
    "\n",
    "# 1、Claim variables\n",
    "a = fluid.layers.data(name='xx', shape=[3], dtype='float32')\n",
    "b = fluid.layers.data(name='yy', shape=[3], dtype='float32')\n",
    "\n",
    "# 2、Claim matrix operation\n",
    "out = fluid.layers.dot(a, b) \n",
    "\n",
    "\n",
    "# 3、Claim value\n",
    "a=np.array([1,2,3]).astype('float32')\n",
    "b=np.array([1,9,2]).astype('float32')\n",
    "\n",
    "\n",
    "# 4、Define Execution\n",
    "place = fluid.CPUPlace()\n",
    "exe = fluid.executor.Executor(place)\n",
    "\n",
    "# 5、Run\n",
    "out_y= exe.run(feed={'xx': a, 'yy': b},# feed\n",
    "               fetch_list=[out]) # fetch\n",
    "out_y"
   ]
  },
  {
   "cell_type": "markdown",
   "metadata": {},
   "source": [
    "### Fetch parameters"
   ]
  },
  {
   "cell_type": "code",
   "execution_count": 1,
   "metadata": {
    "scrolled": true
   },
   "outputs": [
    {
     "name": "stdout",
     "output_type": "stream",
     "text": [
      "(5, 10) (10,)\n",
      "[[-0.31438428 -0.50595033  0.17520362  0.06058151 -0.14575395 -0.25443906\n",
      "   0.25948232  0.3222621   0.03834236  0.2610249 ]\n",
      " [ 0.15416425  0.19081819 -0.09767336 -0.4684856  -0.18790025  0.54540664\n",
      "  -0.53641254 -0.4412768   0.22943074  0.55534583]\n",
      " [-0.16143468  0.5039485   0.59373933  0.03477418  0.0455507   0.36226302\n",
      "  -0.5978517   0.04699957 -0.5348689  -0.55646163]\n",
      " [-0.57261074  0.34489322 -0.41904807  0.5876327  -0.01207119  0.43487543\n",
      "  -0.59538144  0.3857563   0.08492589 -0.11790186]\n",
      " [-0.40498537  0.1516527   0.38702458  0.595934   -0.27476904  0.48081988\n",
      "  -0.19739449  0.14494753  0.53857106 -0.35096446]] [0. 0. 0. 0. 0. 0. 0. 0. 0. 0.]\n"
     ]
    },
    {
     "data": {
      "text/plain": [
       "[array([[-5.210715 ,  3.6770205,  2.40703  ,  5.1540675, -2.0818014,\n",
       "          6.547584 , -6.1727905,  1.9934177,  2.463727 , -2.8750625]],\n",
       "       dtype=float32)]"
      ]
     },
     "execution_count": 1,
     "metadata": {},
     "output_type": "execute_result"
    }
   ],
   "source": [
    "import paddle.fluid as fluid\n",
    "from paddle.fluid.param_attr import ParamAttr #Parameter attribute\n",
    "import numpy as np\n",
    "\n",
    "# 1、Claim variable\n",
    "x = fluid.layers.data(name='x', shape=[None,5], dtype='float32')\n",
    "\n",
    "# 2、Define parameters and name them\n",
    "param_w = ParamAttr(name='target_fc') # Parameter: weight\n",
    "bias_b = ParamAttr(name='target_fc_b') # Parameter: bias\n",
    "\n",
    "# 3、Fully connected layer matrix operation\n",
    "# fc layer,automatically set a weight for x\n",
    "fc1 = fluid.layers.fc(input=x, # input data\n",
    "                      size=10, # output size\n",
    "                      act=None, # activation fcn\n",
    "                      param_attr=param_w, # weight\n",
    "                      bias_attr=bias_b) # bias\n",
    "\n",
    "# 4、Define Execution\n",
    "place = fluid.CPUPlace()\n",
    "exe = fluid.Executor(place)\n",
    "\n",
    "# 5、Initialize，Fetch parameters\n",
    "exe.run(fluid.default_startup_program())\n",
    "w = fluid.global_scope().find_var(\"target_fc\").get_tensor()\n",
    "b = fluid.global_scope().find_var(\"target_fc_b\").get_tensor()\n",
    "w = np.array(w)\n",
    "b = np.array(b)\n",
    "print (w.shape,b.shape)\n",
    "print(w,b)\n",
    "\n",
    "a = np.asarray([1,2,3,4,6]).astype(np.float32).reshape(1,5)\n",
    "# 6、Run\n",
    "exe.run(feed = {'x':a},fetch_list = [fc1])"
   ]
  },
  {
   "cell_type": "code",
   "execution_count": 2,
   "metadata": {},
   "outputs": [
    {
     "data": {
      "text/plain": [
       "array([[-5.210715 ,  3.6770205,  2.40703  ,  5.1540675, -2.0818014,\n",
       "         6.547584 , -6.1727905,  1.9934177,  2.463727 , -2.8750625]],\n",
       "      dtype=float32)"
      ]
     },
     "execution_count": 2,
     "metadata": {},
     "output_type": "execute_result"
    }
   ],
   "source": [
    "# numpy matrix operation\n",
    "a.dot(w)"
   ]
  },
  {
   "cell_type": "markdown",
   "metadata": {},
   "source": [
    "### program\n"
   ]
  },
  {
   "cell_type": "code",
   "execution_count": 1,
   "metadata": {},
   "outputs": [
    {
     "data": {
      "text/plain": [
       "array([[-4.5333385]], dtype=float32)"
      ]
     },
     "metadata": {},
     "output_type": "display_data"
    },
    {
     "data": {
      "text/plain": [
       "array([[90.884544]], dtype=float32)"
      ]
     },
     "metadata": {},
     "output_type": "display_data"
    }
   ],
   "source": [
    "import numpy as np\n",
    "import paddle.fluid as fluid\n",
    "\n",
    "# 1、Claim variables\n",
    "x = fluid.data(name='x',shape=[None, 13], dtype='float32')\n",
    "y = fluid.layers.data(name='y', shape=[1], dtype='float32')\n",
    "\n",
    "\n",
    "# Program\n",
    "# 2.1、FC matrix opeartion\n",
    "y_predict = fluid.layers.fc(input=x, size=1, act=None)\n",
    "# 2.2、Square error\n",
    "cost = fluid.layers.square_error_cost(input=y_predict, label=y)\n",
    "\n",
    "# 3、Define Execution\n",
    "cpu = fluid.CPUPlace()\n",
    "exe = fluid.Executor(cpu)\n",
    "exe.run(fluid.default_startup_program())\n",
    "\n",
    "# 4、Feed and fetch\n",
    "a = np.random.randint(0,10,size =[1,13]).astype(np.float32)\n",
    "b = np.random.randint(0,10,size = 1).astype(np.float32)\n",
    "y_,cost_ = exe.run(feed = {'x':a,\n",
    "                           'y':b},\n",
    "                   fetch_list=[y_predict,cost])\n",
    "display(y_,cost_)"
   ]
  },
  {
   "cell_type": "markdown",
   "metadata": {},
   "source": [
    "$$cost = \\sum\\limits_{i = 1}^n(\\hat{y_i} - y_i)^2/n$$"
   ]
  },
  {
   "cell_type": "code",
   "execution_count": 2,
   "metadata": {},
   "outputs": [
    {
     "data": {
      "text/plain": [
       "90.884544"
      ]
     },
     "execution_count": 2,
     "metadata": {},
     "output_type": "execute_result"
    }
   ],
   "source": [
    "# Square error\n",
    "((y_ - b)**2).mean()"
   ]
  },
  {
   "cell_type": "code",
   "execution_count": null,
   "metadata": {},
   "outputs": [],
   "source": []
  }
 ],
 "metadata": {
  "kernelspec": {
   "display_name": "Python 3",
   "language": "python",
   "name": "python3"
  },
  "language_info": {
   "codemirror_mode": {
    "name": "ipython",
    "version": 3
   },
   "file_extension": ".py",
   "mimetype": "text/x-python",
   "name": "python",
   "nbconvert_exporter": "python",
   "pygments_lexer": "ipython3",
   "version": "3.7.6"
  },
  "toc": {
   "base_numbering": 1,
   "nav_menu": {},
   "number_sections": true,
   "sideBar": true,
   "skip_h1_title": false,
   "title_cell": "Table of Contents",
   "title_sidebar": "Contents",
   "toc_cell": false,
   "toc_position": {},
   "toc_section_display": true,
   "toc_window_display": false
  }
 },
 "nbformat": 4,
 "nbformat_minor": 4
}
